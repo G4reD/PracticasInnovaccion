{
 "cells": [
  {
   "cell_type": "markdown",
   "metadata": {},
   "source": [
    "# Operadores Aritmeticos"
   ]
  },
  {
   "cell_type": "code",
   "execution_count": 2,
   "metadata": {},
   "outputs": [
    {
     "name": "stdout",
     "output_type": "stream",
     "text": [
      "La distancia es: -628949330km En millas son: -390577533.93\n"
     ]
    }
   ],
   "source": [
    "# Distancia de cada Planeta en Km\n",
    "Tierra = 149597870\n",
    "Jupiter = 778547200\n",
    "\n",
    "Distancia = Tierra - Jupiter\n",
    "\n",
    "# Conversion de km a millas\n",
    "millas = Distancia * 0.621\n",
    "\n",
    "print(\"La distancia es: \" + str(Distancia) + \"km\" \" En millas son: \" + str(millas))\n",
    "\n"
   ]
  },
  {
   "cell_type": "code",
   "execution_count": 8,
   "metadata": {},
   "outputs": [
    {
     "name": "stdout",
     "output_type": "stream",
     "text": [
      "628949330\n",
      "390577533.93\n"
     ]
    }
   ],
   "source": [
    "dt = int(input(\"Ingresa la distancia de la Tierra\"))\n",
    "dj = int(input(\"Ingresa la distancia de Jupiter\"))\n",
    "\n",
    "dif = dt - dj\n",
    "millas = dif * 0.621\n",
    "print(abs(dif))\n",
    "print(abs(millas))"
   ]
  }
 ],
 "metadata": {
  "interpreter": {
   "hash": "d5d7fe0022efe4e75f7437cd83cd3246d587cc7d5171b879e5366db8b69bbb9c"
  },
  "kernelspec": {
   "display_name": "Python 3.10.2 64-bit",
   "language": "python",
   "name": "python3"
  },
  "language_info": {
   "codemirror_mode": {
    "name": "ipython",
    "version": 3
   },
   "file_extension": ".py",
   "mimetype": "text/x-python",
   "name": "python",
   "nbconvert_exporter": "python",
   "pygments_lexer": "ipython3",
   "version": "3.10.2"
  },
  "orig_nbformat": 4
 },
 "nbformat": 4,
 "nbformat_minor": 2
}

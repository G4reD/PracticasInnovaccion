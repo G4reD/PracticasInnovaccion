{
 "cells": [
  {
   "cell_type": "markdown",
   "metadata": {},
   "source": [
    "## Listas"
   ]
  },
  {
   "cell_type": "code",
   "execution_count": 9,
   "metadata": {},
   "outputs": [
    {
     "name": "stdout",
     "output_type": "stream",
     "text": [
      "Numero de Planetas en la Lista: 8\n",
      "Numero Actualizado de Planetas en la Lista: 9\n",
      "El ultimo elemento de la Lista es: Pluton\n"
     ]
    }
   ],
   "source": [
    "planets = ['Mercurio', 'Venus', 'Tierra', 'Marte', 'Jupiter', 'Saturno', 'Urano', 'Neptuno']\n",
    "\n",
    "items_number = len(planets)\n",
    "print(\"Numero de Planetas en la Lista: \" + str(items_number))\n",
    "\n",
    "planets.append('Pluton')\n",
    "items_number = len(planets)\n",
    "print(\"Numero Actualizado de Planetas en la Lista: \" + str(items_number))\n",
    "\n",
    "ultimo = planets.pop()\n",
    "print(\"El ultimo elemento de la Lista es: \" + ultimo)\n"
   ]
  },
  {
   "cell_type": "code",
   "execution_count": 27,
   "metadata": {},
   "outputs": [
    {
     "name": "stdout",
     "output_type": "stream",
     "text": [
      "Tierra es el numero: 3\n",
      "Planetas mas cercanos al Sol que Tierra ['Mercurio', 'Venus']\n",
      "Planetas mas alejados del Sol que Tierra ['Marte', 'Jupiter', 'Saturno', 'Urano', 'Neptuno']\n"
     ]
    }
   ],
   "source": [
    "planets = ['Mercurio', 'Venus', 'Tierra', 'Marte', 'Jupiter', 'Saturno', 'Urano', 'Neptuno']\n",
    "\n",
    "planeta = input(\"Ingresa el nombre de un planeta\")\n",
    "planeta_index = planets.index(planeta)\n",
    "print(planeta + \" es el numero: \" + str(planeta_index + 1))\n",
    "planetas_cercanos = planets[0:planeta_index]\n",
    "planetas_alejados = planets[planeta_index + 1:]\n",
    "print(\"Planetas mas cercanos al Sol que \" + planeta + \" \" + str(planetas_cercanos))\n",
    "print(\"Planetas mas alejados del Sol que \" + planeta + \" \" + str(planetas_alejados))"
   ]
  }
 ],
 "metadata": {
  "interpreter": {
   "hash": "d5d7fe0022efe4e75f7437cd83cd3246d587cc7d5171b879e5366db8b69bbb9c"
  },
  "kernelspec": {
   "display_name": "Python 3.10.2 64-bit",
   "language": "python",
   "name": "python3"
  },
  "language_info": {
   "codemirror_mode": {
    "name": "ipython",
    "version": 3
   },
   "file_extension": ".py",
   "mimetype": "text/x-python",
   "name": "python",
   "nbconvert_exporter": "python",
   "pygments_lexer": "ipython3",
   "version": "3.10.2"
  },
  "orig_nbformat": 4
 },
 "nbformat": 4,
 "nbformat_minor": 2
}

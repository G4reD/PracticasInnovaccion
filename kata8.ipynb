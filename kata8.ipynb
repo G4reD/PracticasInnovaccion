{
 "cells": [
  {
   "cell_type": "markdown",
   "metadata": {},
   "source": [
    "# Diccionarios"
   ]
  },
  {
   "cell_type": "code",
   "execution_count": 18,
   "metadata": {},
   "outputs": [
    {
     "name": "stdout",
     "output_type": "stream",
     "text": [
      "Nombre del Planeta:  Marte \n",
      " Cantidad de Lunas:  2\n",
      "Nombre del Planeta:  Tierra \n",
      " Cantidad de Lunas:  2\n",
      "Nombre del Planeta:  Tierra \n",
      " Cantidad de Lunas:  2 \n",
      " Circunferencia:  {'polar': 6752, 'ecuatorial': 6792}\n"
     ]
    }
   ],
   "source": [
    "planeta = {\n",
    "    'nombre': 'Marte',\n",
    "    'lunas': 2\n",
    "}\n",
    "\n",
    "print(\"Nombre del Planeta: \", planeta['nombre'],\"\\n\", \"Cantidad de Lunas: \", planeta['lunas'])\n",
    "\n",
    "planeta.update({'nombre': 'Tierra'})\n",
    "print(\"Nombre del Planeta: \", planeta['nombre'],\"\\n\", \"Cantidad de Lunas: \", planeta['lunas'])\n",
    "\n",
    "planeta['circunferencia'] = {\n",
    "    'polar': 6752,\n",
    "    'ecuatorial': 6792\n",
    "}\n",
    "\n",
    "print(\"Nombre del Planeta: \", planeta['nombre'],\"\\n\", \"Cantidad de Lunas: \", planeta['lunas'],\"\\n\",\"Circunferencia: \", planeta['circunferencia'])"
   ]
  },
  {
   "cell_type": "code",
   "execution_count": 21,
   "metadata": {},
   "outputs": [
    {
     "name": "stdout",
     "output_type": "stream",
     "text": [
      "23.333333333333332\n"
     ]
    }
   ],
   "source": [
    "planet_moons = {\n",
    "    'mercurio': 0,\n",
    "    'venus': 0,\n",
    "    'tierra': 1,\n",
    "    'marte': 2,\n",
    "    'jupiter': 79,\n",
    "    'saturno': 82,\n",
    "    'urano': 27,\n",
    "    'neptuno': 14,\n",
    "    'pluton': 5,\n",
    "}\n",
    "\n",
    "lunas = planet_moons.values()\n",
    "planets = len(planet_moons.keys())\n",
    "\n",
    "total_lunas = 0\n",
    "for moon in lunas:\n",
    "    total_lunas = total_lunas + moon\n",
    "\n",
    "    average = total_lunas / planets\n",
    "\n",
    "print(average)\n",
    "\n"
   ]
  }
 ],
 "metadata": {
  "interpreter": {
   "hash": "d5d7fe0022efe4e75f7437cd83cd3246d587cc7d5171b879e5366db8b69bbb9c"
  },
  "kernelspec": {
   "display_name": "Python 3.10.2 64-bit",
   "language": "python",
   "name": "python3"
  },
  "language_info": {
   "codemirror_mode": {
    "name": "ipython",
    "version": 3
   },
   "file_extension": ".py",
   "mimetype": "text/x-python",
   "name": "python",
   "nbconvert_exporter": "python",
   "pygments_lexer": "ipython3",
   "version": "3.10.2"
  },
  "orig_nbformat": 4
 },
 "nbformat": 4,
 "nbformat_minor": 2
}

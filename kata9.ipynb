{
 "cells": [
  {
   "cell_type": "markdown",
   "metadata": {},
   "source": [
    "# Funciones"
   ]
  },
  {
   "cell_type": "code",
   "execution_count": 3,
   "metadata": {},
   "outputs": [
    {
     "name": "stdout",
     "output_type": "stream",
     "text": [
      "reporte combustible:\n",
      "    Total : 78.0%\n",
      "    Tanque1: 88%\n",
      "    Tanque2: 76%\n",
      "    Tanque3: 70% \n",
      "    \n"
     ]
    }
   ],
   "source": [
    "def combustible(tanque1, tanque2, tanque3):\n",
    "    total = (tanque1 + tanque2 + tanque3) / 3\n",
    "    return f\"\"\"reporte_combustible:\n",
    "    Total: {total}%\n",
    "    tanque1: {tanque1}%\n",
    "    tanque2: {tanque2}%\n",
    "    tanque3: {tanque3}% \n",
    "    \"\"\"\n",
    "    print(combustible(80,70,85))\n",
    "    \n",
    "def average(values):\n",
    "    total = sum(values)\n",
    "    number_of_items = len(values)\n",
    "    return total / number_of_items\n",
    "\n",
    "average([80, 85, 81])\n",
    "\n",
    "def combustible(tanque1, tanque2, tanque3):\n",
    "    return f\"\"\"reporte combustible:\n",
    "    Total : {average([tanque1, tanque2, tanque3])}%\n",
    "    Tanque1: {tanque1}%\n",
    "    Tanque2: {tanque2}%\n",
    "    Tanque3: {tanque3}% \n",
    "    \"\"\"\n",
    "print(combustible(88, 76, 70))\n"
   ]
  },
  {
   "cell_type": "code",
   "execution_count": 4,
   "metadata": {},
   "outputs": [
    {
     "name": "stdout",
     "output_type": "stream",
     "text": [
      "\n",
      "    Mision hacia Luna\n",
      "    Tiempo total del viaje: 65 minutos\n",
      "    Reserva de Combustible: 500000 galones\n",
      "    \n"
     ]
    }
   ],
   "source": [
    "def mision(prelanzamiento, tiempo_vuelo, destino, tanq_ext, tanq_int):\n",
    "    return f\"\"\"\n",
    "    Mision hacia {destino}\n",
    "    Tiempo total del viaje: {prelanzamiento + tiempo_vuelo} minutos\n",
    "    Reserva de Combustible: {tanq_ext + tanq_int} galones\n",
    "    \"\"\"\n",
    "\n",
    "print(mision(14, 51, \"Luna\", 200000, 300000))"
   ]
  },
  {
   "cell_type": "code",
   "execution_count": 7,
   "metadata": {},
   "outputs": [
    {
     "name": "stdout",
     "output_type": "stream",
     "text": [
      "\n",
      "    Mision hacia Luna\n",
      "    Tiempo total del viaje: 76 minutos\n",
      "    Queda combustible: 600000\n",
      "    \n"
     ]
    }
   ],
   "source": [
    "def mision(destino, *minutos, **r_combustible):\n",
    "    return f\"\"\"\n",
    "    Mision hacia {destino}\n",
    "    Tiempo total del viaje: {sum(minutos)} minutos\n",
    "    Queda combustible: {sum(r_combustible.values())}\n",
    "    \"\"\"\n",
    "\n",
    "print(mision(\"Luna\", 10, 15, 51, tanque_int=400000, tanque_ext=200000))"
   ]
  },
  {
   "cell_type": "code",
   "execution_count": 8,
   "metadata": {},
   "outputs": [
    {
     "name": "stdout",
     "output_type": "stream",
     "text": [
      "\n",
      "    Mision hacia Luna\n",
      "    Tiempo del viaje: 74 minutos\n",
      "    Queda combustible: 450000\n",
      "    main tanque --> 250000 galones que quedan\n",
      "external tanque --> 200000 galones que quedan\n",
      "\n"
     ]
    }
   ],
   "source": [
    "def mision(destino, *minutos, **r_combustible):\n",
    "    reporte = f\"\"\"\n",
    "    Mision hacia {destino}\n",
    "    Tiempo del viaje: {sum(minutos)} minutos\n",
    "    Queda combustible: {sum(r_combustible.values())}\n",
    "    \"\"\"\n",
    "    for tanque, galones in r_combustible.items():\n",
    "        reporte += f\"{tanque} tanque --> {galones} galones que quedan\\n\"\n",
    "    return reporte\n",
    "\n",
    "print(mision(\"Luna\", 8, 11, 55, main=250000, external=200000))"
   ]
  }
 ],
 "metadata": {
  "interpreter": {
   "hash": "d5d7fe0022efe4e75f7437cd83cd3246d587cc7d5171b879e5366db8b69bbb9c"
  },
  "kernelspec": {
   "display_name": "Python 3.10.2 64-bit",
   "language": "python",
   "name": "python3"
  },
  "language_info": {
   "codemirror_mode": {
    "name": "ipython",
    "version": 3
   },
   "file_extension": ".py",
   "mimetype": "text/x-python",
   "name": "python",
   "nbconvert_exporter": "python",
   "pygments_lexer": "ipython3",
   "version": "3.10.2"
  },
  "orig_nbformat": 4
 },
 "nbformat": 4,
 "nbformat_minor": 2
}

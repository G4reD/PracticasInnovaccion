{
 "cells": [
  {
   "cell_type": "markdown",
   "metadata": {},
   "source": [
    "# Declaraciones If"
   ]
  },
  {
   "cell_type": "code",
   "execution_count": 5,
   "metadata": {},
   "outputs": [
    {
     "name": "stdout",
     "output_type": "stream",
     "text": [
      "Advertencia un asteroide se acerca muy rapido a la Tierra\n"
     ]
    }
   ],
   "source": [
    "VelAs = 49\n",
    "\n",
    "if VelAs > 25:\n",
    "    print(\"Advertencia un asteroide se acerca muy rapido a la Tierra\")\n",
    "else:\n",
    "    print(\"La velocidad del Asteroide no rebasa los 25km/s\")"
   ]
  },
  {
   "cell_type": "code",
   "execution_count": 13,
   "metadata": {},
   "outputs": [
    {
     "name": "stdout",
     "output_type": "stream",
     "text": [
      "Aun no se puede ver el asteroide\n"
     ]
    }
   ],
   "source": [
    "VelAs = 19\n",
    "\n",
    "if VelAs >= 20:\n",
    "    print(\"Buscar Asteroide en el cielo\")\n",
    "elif VelAs == 19:\n",
    "    print(\"Un Asteroide se acerca a la Tierra a una velocidad de 19km/s\")\n",
    "else:\n",
    "    print(\"Aun no se puede ver el asteroide\")"
   ]
  },
  {
   "cell_type": "code",
   "execution_count": 17,
   "metadata": {},
   "outputs": [
    {
     "name": "stdout",
     "output_type": "stream",
     "text": [
      "Se puede ver una luz en el cielo\n"
     ]
    }
   ],
   "source": [
    "VelAs = 25\n",
    "TamAS = 30\n",
    "\n",
    "if VelAs > 25 and TamAS > 25:\n",
    "    print(\"Un Asteroide impactara la Tierra\")\n",
    "elif VelAs >=20:\n",
    "    print(\"Se puede ver una luz en el cielo\")\n",
    "elif TamAS < 25 or VelAs < 20:\n",
    "    print(\"No hay Peligro\")\n",
    "else:\n",
    "    print(\"No hay Peligro\")\n"
   ]
  }
 ],
 "metadata": {
  "interpreter": {
   "hash": "d5d7fe0022efe4e75f7437cd83cd3246d587cc7d5171b879e5366db8b69bbb9c"
  },
  "kernelspec": {
   "display_name": "Python 3.10.2 64-bit",
   "language": "python",
   "name": "python3"
  },
  "language_info": {
   "codemirror_mode": {
    "name": "ipython",
    "version": 3
   },
   "file_extension": ".py",
   "mimetype": "text/x-python",
   "name": "python",
   "nbconvert_exporter": "python",
   "pygments_lexer": "ipython3",
   "version": "3.10.2"
  },
  "orig_nbformat": 4
 },
 "nbformat": 4,
 "nbformat_minor": 2
}
